{
 "cells": [
  {
   "cell_type": "markdown",
   "metadata": {},
   "source": [
    "# Install relevant packages"
   ]
  },
  {
   "cell_type": "code",
   "execution_count": 18,
   "metadata": {},
   "outputs": [
    {
     "name": "stdout",
     "output_type": "stream",
     "text": [
      "Requirement already satisfied: torch in /Users/kevinkraus/.pyenv/versions/3.9.1/lib/python3.9/site-packages (1.12.1)\n",
      "Requirement already satisfied: torchvision in /Users/kevinkraus/.pyenv/versions/3.9.1/lib/python3.9/site-packages (0.13.1)\n",
      "Requirement already satisfied: Flask in /Users/kevinkraus/.pyenv/versions/3.9.1/lib/python3.9/site-packages (2.2.2)\n",
      "Requirement already satisfied: spacy in /Users/kevinkraus/.pyenv/versions/3.9.1/lib/python3.9/site-packages (3.4.3)\n",
      "Requirement already satisfied: typing-extensions in /Users/kevinkraus/.pyenv/versions/3.9.1/lib/python3.9/site-packages (from torch) (4.3.0)\n",
      "Requirement already satisfied: pillow!=8.3.*,>=5.3.0 in /Users/kevinkraus/.pyenv/versions/3.9.1/lib/python3.9/site-packages (from torchvision) (9.2.0)\n",
      "Requirement already satisfied: requests in /Users/kevinkraus/.pyenv/versions/3.9.1/lib/python3.9/site-packages (from torchvision) (2.28.1)\n",
      "Requirement already satisfied: numpy in /Users/kevinkraus/.pyenv/versions/3.9.1/lib/python3.9/site-packages (from torchvision) (1.23.2)\n",
      "Requirement already satisfied: Werkzeug>=2.2.2 in /Users/kevinkraus/.pyenv/versions/3.9.1/lib/python3.9/site-packages (from Flask) (2.2.2)\n",
      "Requirement already satisfied: itsdangerous>=2.0 in /Users/kevinkraus/.pyenv/versions/3.9.1/lib/python3.9/site-packages (from Flask) (2.1.2)\n",
      "Requirement already satisfied: click>=8.0 in /Users/kevinkraus/.pyenv/versions/3.9.1/lib/python3.9/site-packages (from Flask) (8.0.4)\n",
      "Requirement already satisfied: Jinja2>=3.0 in /Users/kevinkraus/.pyenv/versions/3.9.1/lib/python3.9/site-packages (from Flask) (3.1.2)\n",
      "Requirement already satisfied: importlib-metadata>=3.6.0 in /Users/kevinkraus/.pyenv/versions/3.9.1/lib/python3.9/site-packages (from Flask) (4.12.0)\n",
      "Requirement already satisfied: srsly<3.0.0,>=2.4.3 in /Users/kevinkraus/.pyenv/versions/3.9.1/lib/python3.9/site-packages (from spacy) (2.4.5)\n",
      "Requirement already satisfied: pathy>=0.3.5 in /Users/kevinkraus/.pyenv/versions/3.9.1/lib/python3.9/site-packages (from spacy) (0.10.0)\n",
      "Requirement already satisfied: tqdm<5.0.0,>=4.38.0 in /Users/kevinkraus/.pyenv/versions/3.9.1/lib/python3.9/site-packages (from spacy) (4.64.0)\n",
      "Requirement already satisfied: packaging>=20.0 in /Users/kevinkraus/.pyenv/versions/3.9.1/lib/python3.9/site-packages (from spacy) (21.3)\n",
      "Requirement already satisfied: cymem<2.1.0,>=2.0.2 in /Users/kevinkraus/.pyenv/versions/3.9.1/lib/python3.9/site-packages (from spacy) (2.0.7)\n",
      "Requirement already satisfied: catalogue<2.1.0,>=2.0.6 in /Users/kevinkraus/.pyenv/versions/3.9.1/lib/python3.9/site-packages (from spacy) (2.0.8)\n",
      "Requirement already satisfied: langcodes<4.0.0,>=3.2.0 in /Users/kevinkraus/.pyenv/versions/3.9.1/lib/python3.9/site-packages (from spacy) (3.3.0)\n",
      "Requirement already satisfied: preshed<3.1.0,>=3.0.2 in /Users/kevinkraus/.pyenv/versions/3.9.1/lib/python3.9/site-packages (from spacy) (3.0.8)\n",
      "Requirement already satisfied: murmurhash<1.1.0,>=0.28.0 in /Users/kevinkraus/.pyenv/versions/3.9.1/lib/python3.9/site-packages (from spacy) (1.0.9)\n",
      "Requirement already satisfied: spacy-loggers<2.0.0,>=1.0.0 in /Users/kevinkraus/.pyenv/versions/3.9.1/lib/python3.9/site-packages (from spacy) (1.0.3)\n",
      "Requirement already satisfied: pydantic!=1.8,!=1.8.1,<1.11.0,>=1.7.4 in /Users/kevinkraus/.pyenv/versions/3.9.1/lib/python3.9/site-packages (from spacy) (1.9.2)\n",
      "Requirement already satisfied: typer<0.8.0,>=0.3.0 in /Users/kevinkraus/.pyenv/versions/3.9.1/lib/python3.9/site-packages (from spacy) (0.7.0)\n",
      "Requirement already satisfied: wasabi<1.1.0,>=0.9.1 in /Users/kevinkraus/.pyenv/versions/3.9.1/lib/python3.9/site-packages (from spacy) (0.10.1)\n",
      "Requirement already satisfied: setuptools in /Users/kevinkraus/.pyenv/versions/3.9.1/lib/python3.9/site-packages (from spacy) (49.2.1)\n",
      "Requirement already satisfied: thinc<8.2.0,>=8.1.0 in /Users/kevinkraus/.pyenv/versions/3.9.1/lib/python3.9/site-packages (from spacy) (8.1.5)\n",
      "Requirement already satisfied: spacy-legacy<3.1.0,>=3.0.10 in /Users/kevinkraus/.pyenv/versions/3.9.1/lib/python3.9/site-packages (from spacy) (3.0.10)\n",
      "Requirement already satisfied: zipp>=0.5 in /Users/kevinkraus/.pyenv/versions/3.9.1/lib/python3.9/site-packages (from importlib-metadata>=3.6.0->Flask) (3.8.1)\n",
      "Requirement already satisfied: MarkupSafe>=2.0 in /Users/kevinkraus/.pyenv/versions/3.9.1/lib/python3.9/site-packages (from Jinja2>=3.0->Flask) (2.1.1)\n",
      "Requirement already satisfied: pyparsing!=3.0.5,>=2.0.2 in /Users/kevinkraus/.pyenv/versions/3.9.1/lib/python3.9/site-packages (from packaging>=20.0->spacy) (3.0.9)\n",
      "Requirement already satisfied: smart-open<6.0.0,>=5.2.1 in /Users/kevinkraus/.pyenv/versions/3.9.1/lib/python3.9/site-packages (from pathy>=0.3.5->spacy) (5.2.1)\n",
      "Requirement already satisfied: idna<4,>=2.5 in /Users/kevinkraus/.pyenv/versions/3.9.1/lib/python3.9/site-packages (from requests->torchvision) (3.3)\n",
      "Requirement already satisfied: certifi>=2017.4.17 in /Users/kevinkraus/.pyenv/versions/3.9.1/lib/python3.9/site-packages (from requests->torchvision) (2022.6.15)\n",
      "Requirement already satisfied: urllib3<1.27,>=1.21.1 in /Users/kevinkraus/.pyenv/versions/3.9.1/lib/python3.9/site-packages (from requests->torchvision) (1.26.11)\n",
      "Requirement already satisfied: charset-normalizer<3,>=2 in /Users/kevinkraus/.pyenv/versions/3.9.1/lib/python3.9/site-packages (from requests->torchvision) (2.1.0)\n",
      "Requirement already satisfied: confection<1.0.0,>=0.0.1 in /Users/kevinkraus/.pyenv/versions/3.9.1/lib/python3.9/site-packages (from thinc<8.2.0,>=8.1.0->spacy) (0.0.3)\n",
      "Requirement already satisfied: blis<0.8.0,>=0.7.8 in /Users/kevinkraus/.pyenv/versions/3.9.1/lib/python3.9/site-packages (from thinc<8.2.0,>=8.1.0->spacy) (0.7.9)\n",
      "\n",
      "\u001b[1m[\u001b[0m\u001b[34;49mnotice\u001b[0m\u001b[1;39;49m]\u001b[0m\u001b[39;49m A new release of pip available: \u001b[0m\u001b[31;49m22.2.2\u001b[0m\u001b[39;49m -> \u001b[0m\u001b[32;49m22.3.1\u001b[0m\n",
      "\u001b[1m[\u001b[0m\u001b[34;49mnotice\u001b[0m\u001b[1;39;49m]\u001b[0m\u001b[39;49m To update, run: \u001b[0m\u001b[32;49mpip install --upgrade pip\u001b[0m\n",
      "Collecting de-core-news-sm==3.4.0\n",
      "  Downloading https://github.com/explosion/spacy-models/releases/download/de_core_news_sm-3.4.0/de_core_news_sm-3.4.0-py3-none-any.whl (14.6 MB)\n",
      "\u001b[2K     \u001b[90m━━━━━━━━━━━━━━━━━━━━━━━━━━━━━━━━━━━━━━━━\u001b[0m \u001b[32m14.6/14.6 MB\u001b[0m \u001b[31m7.0 MB/s\u001b[0m eta \u001b[36m0:00:00\u001b[0m00:01\u001b[0m00:01\u001b[0m\n",
      "\u001b[?25hRequirement already satisfied: spacy<3.5.0,>=3.4.0 in /Users/kevinkraus/.pyenv/versions/3.9.1/lib/python3.9/site-packages (from de-core-news-sm==3.4.0) (3.4.3)\n",
      "Requirement already satisfied: pathy>=0.3.5 in /Users/kevinkraus/.pyenv/versions/3.9.1/lib/python3.9/site-packages (from spacy<3.5.0,>=3.4.0->de-core-news-sm==3.4.0) (0.10.0)\n",
      "Requirement already satisfied: requests<3.0.0,>=2.13.0 in /Users/kevinkraus/.pyenv/versions/3.9.1/lib/python3.9/site-packages (from spacy<3.5.0,>=3.4.0->de-core-news-sm==3.4.0) (2.28.1)\n",
      "Requirement already satisfied: preshed<3.1.0,>=3.0.2 in /Users/kevinkraus/.pyenv/versions/3.9.1/lib/python3.9/site-packages (from spacy<3.5.0,>=3.4.0->de-core-news-sm==3.4.0) (3.0.8)\n",
      "Requirement already satisfied: typer<0.8.0,>=0.3.0 in /Users/kevinkraus/.pyenv/versions/3.9.1/lib/python3.9/site-packages (from spacy<3.5.0,>=3.4.0->de-core-news-sm==3.4.0) (0.7.0)\n",
      "Requirement already satisfied: numpy>=1.15.0 in /Users/kevinkraus/.pyenv/versions/3.9.1/lib/python3.9/site-packages (from spacy<3.5.0,>=3.4.0->de-core-news-sm==3.4.0) (1.23.2)\n",
      "Requirement already satisfied: catalogue<2.1.0,>=2.0.6 in /Users/kevinkraus/.pyenv/versions/3.9.1/lib/python3.9/site-packages (from spacy<3.5.0,>=3.4.0->de-core-news-sm==3.4.0) (2.0.8)\n",
      "Requirement already satisfied: murmurhash<1.1.0,>=0.28.0 in /Users/kevinkraus/.pyenv/versions/3.9.1/lib/python3.9/site-packages (from spacy<3.5.0,>=3.4.0->de-core-news-sm==3.4.0) (1.0.9)\n",
      "Requirement already satisfied: wasabi<1.1.0,>=0.9.1 in /Users/kevinkraus/.pyenv/versions/3.9.1/lib/python3.9/site-packages (from spacy<3.5.0,>=3.4.0->de-core-news-sm==3.4.0) (0.10.1)\n",
      "Requirement already satisfied: setuptools in /Users/kevinkraus/.pyenv/versions/3.9.1/lib/python3.9/site-packages (from spacy<3.5.0,>=3.4.0->de-core-news-sm==3.4.0) (49.2.1)\n",
      "Requirement already satisfied: pydantic!=1.8,!=1.8.1,<1.11.0,>=1.7.4 in /Users/kevinkraus/.pyenv/versions/3.9.1/lib/python3.9/site-packages (from spacy<3.5.0,>=3.4.0->de-core-news-sm==3.4.0) (1.9.2)\n",
      "Requirement already satisfied: cymem<2.1.0,>=2.0.2 in /Users/kevinkraus/.pyenv/versions/3.9.1/lib/python3.9/site-packages (from spacy<3.5.0,>=3.4.0->de-core-news-sm==3.4.0) (2.0.7)\n",
      "Requirement already satisfied: spacy-loggers<2.0.0,>=1.0.0 in /Users/kevinkraus/.pyenv/versions/3.9.1/lib/python3.9/site-packages (from spacy<3.5.0,>=3.4.0->de-core-news-sm==3.4.0) (1.0.3)\n",
      "Requirement already satisfied: thinc<8.2.0,>=8.1.0 in /Users/kevinkraus/.pyenv/versions/3.9.1/lib/python3.9/site-packages (from spacy<3.5.0,>=3.4.0->de-core-news-sm==3.4.0) (8.1.5)\n",
      "Requirement already satisfied: srsly<3.0.0,>=2.4.3 in /Users/kevinkraus/.pyenv/versions/3.9.1/lib/python3.9/site-packages (from spacy<3.5.0,>=3.4.0->de-core-news-sm==3.4.0) (2.4.5)\n",
      "Requirement already satisfied: packaging>=20.0 in /Users/kevinkraus/.pyenv/versions/3.9.1/lib/python3.9/site-packages (from spacy<3.5.0,>=3.4.0->de-core-news-sm==3.4.0) (21.3)\n",
      "Requirement already satisfied: jinja2 in /Users/kevinkraus/.pyenv/versions/3.9.1/lib/python3.9/site-packages (from spacy<3.5.0,>=3.4.0->de-core-news-sm==3.4.0) (3.1.2)\n",
      "Requirement already satisfied: spacy-legacy<3.1.0,>=3.0.10 in /Users/kevinkraus/.pyenv/versions/3.9.1/lib/python3.9/site-packages (from spacy<3.5.0,>=3.4.0->de-core-news-sm==3.4.0) (3.0.10)\n",
      "Requirement already satisfied: tqdm<5.0.0,>=4.38.0 in /Users/kevinkraus/.pyenv/versions/3.9.1/lib/python3.9/site-packages (from spacy<3.5.0,>=3.4.0->de-core-news-sm==3.4.0) (4.64.0)\n",
      "Requirement already satisfied: langcodes<4.0.0,>=3.2.0 in /Users/kevinkraus/.pyenv/versions/3.9.1/lib/python3.9/site-packages (from spacy<3.5.0,>=3.4.0->de-core-news-sm==3.4.0) (3.3.0)\n",
      "Requirement already satisfied: pyparsing!=3.0.5,>=2.0.2 in /Users/kevinkraus/.pyenv/versions/3.9.1/lib/python3.9/site-packages (from packaging>=20.0->spacy<3.5.0,>=3.4.0->de-core-news-sm==3.4.0) (3.0.9)\n",
      "Requirement already satisfied: smart-open<6.0.0,>=5.2.1 in /Users/kevinkraus/.pyenv/versions/3.9.1/lib/python3.9/site-packages (from pathy>=0.3.5->spacy<3.5.0,>=3.4.0->de-core-news-sm==3.4.0) (5.2.1)\n",
      "Requirement already satisfied: typing-extensions>=3.7.4.3 in /Users/kevinkraus/.pyenv/versions/3.9.1/lib/python3.9/site-packages (from pydantic!=1.8,!=1.8.1,<1.11.0,>=1.7.4->spacy<3.5.0,>=3.4.0->de-core-news-sm==3.4.0) (4.3.0)\n",
      "Requirement already satisfied: certifi>=2017.4.17 in /Users/kevinkraus/.pyenv/versions/3.9.1/lib/python3.9/site-packages (from requests<3.0.0,>=2.13.0->spacy<3.5.0,>=3.4.0->de-core-news-sm==3.4.0) (2022.6.15)\n",
      "Requirement already satisfied: idna<4,>=2.5 in /Users/kevinkraus/.pyenv/versions/3.9.1/lib/python3.9/site-packages (from requests<3.0.0,>=2.13.0->spacy<3.5.0,>=3.4.0->de-core-news-sm==3.4.0) (3.3)\n",
      "Requirement already satisfied: urllib3<1.27,>=1.21.1 in /Users/kevinkraus/.pyenv/versions/3.9.1/lib/python3.9/site-packages (from requests<3.0.0,>=2.13.0->spacy<3.5.0,>=3.4.0->de-core-news-sm==3.4.0) (1.26.11)\n",
      "Requirement already satisfied: charset-normalizer<3,>=2 in /Users/kevinkraus/.pyenv/versions/3.9.1/lib/python3.9/site-packages (from requests<3.0.0,>=2.13.0->spacy<3.5.0,>=3.4.0->de-core-news-sm==3.4.0) (2.1.0)\n",
      "Requirement already satisfied: blis<0.8.0,>=0.7.8 in /Users/kevinkraus/.pyenv/versions/3.9.1/lib/python3.9/site-packages (from thinc<8.2.0,>=8.1.0->spacy<3.5.0,>=3.4.0->de-core-news-sm==3.4.0) (0.7.9)\n",
      "Requirement already satisfied: confection<1.0.0,>=0.0.1 in /Users/kevinkraus/.pyenv/versions/3.9.1/lib/python3.9/site-packages (from thinc<8.2.0,>=8.1.0->spacy<3.5.0,>=3.4.0->de-core-news-sm==3.4.0) (0.0.3)\n",
      "Requirement already satisfied: click<9.0.0,>=7.1.1 in /Users/kevinkraus/.pyenv/versions/3.9.1/lib/python3.9/site-packages (from typer<0.8.0,>=0.3.0->spacy<3.5.0,>=3.4.0->de-core-news-sm==3.4.0) (8.0.4)\n",
      "Requirement already satisfied: MarkupSafe>=2.0 in /Users/kevinkraus/.pyenv/versions/3.9.1/lib/python3.9/site-packages (from jinja2->spacy<3.5.0,>=3.4.0->de-core-news-sm==3.4.0) (2.1.1)\n",
      "\n",
      "\u001b[1m[\u001b[0m\u001b[34;49mnotice\u001b[0m\u001b[1;39;49m]\u001b[0m\u001b[39;49m A new release of pip available: \u001b[0m\u001b[31;49m22.2.2\u001b[0m\u001b[39;49m -> \u001b[0m\u001b[32;49m22.3.1\u001b[0m\n",
      "\u001b[1m[\u001b[0m\u001b[34;49mnotice\u001b[0m\u001b[1;39;49m]\u001b[0m\u001b[39;49m To update, run: \u001b[0m\u001b[32;49mpip install --upgrade pip\u001b[0m\n",
      "\u001b[38;5;2m✔ Download and installation successful\u001b[0m\n",
      "You can now load the package via spacy.load('de_core_news_sm')\n"
     ]
    }
   ],
   "source": [
    "!pip install torch torchvision Flask spacy\n",
    "!python -m spacy download de_core_news_sm"
   ]
  },
  {
   "cell_type": "markdown",
   "metadata": {},
   "source": [
    "# Top level config"
   ]
  },
  {
   "cell_type": "code",
   "execution_count": 171,
   "metadata": {},
   "outputs": [],
   "source": [
    "model = 'de_core_news_sm'\n",
    "\n",
    "batch_size = 400\n",
    "\n",
    "iterations = 5\n",
    "\n",
    "output_dir = f'./spacy_gerNER_updated_{batch_size}_{iterations}'"
   ]
  },
  {
   "cell_type": "markdown",
   "metadata": {},
   "source": [
    "# Imports"
   ]
  },
  {
   "cell_type": "code",
   "execution_count": 96,
   "metadata": {},
   "outputs": [],
   "source": [
    "import pandas as pd\n",
    "import numpy as np\n",
    "import spacy\n",
    "import random\n",
    "import re\n",
    "\n",
    "from spacy.training import Example\n",
    "from pathlib import Path\n",
    "from tqdm import tqdm"
   ]
  },
  {
   "cell_type": "markdown",
   "metadata": {},
   "source": [
    "# Read data"
   ]
  },
  {
   "cell_type": "code",
   "execution_count": 101,
   "metadata": {},
   "outputs": [],
   "source": [
    "train_raw = pd.read_csv('data/Assignment-Option-1-GermaNER-data/NER-de-train.tsv', sep='\\t', on_bad_lines='skip', engine='python',  names=['tokens', 'NER', 'delete'])\n",
    "dev_raw = pd.read_csv('data/Assignment-Option-1-GermaNER-data/NER-de-dev.tsv',sep='\\t', names=['tokens', 'NER', 'delete'], on_bad_lines='skip')\n",
    "test_raw = pd.read_csv('data/Assignment-Option-1-GermaNER-data/NER-de-test.tsv',sep='\\t', names=['tokens', 'NER', 'delete'], on_bad_lines='skip', engine='python')"
   ]
  },
  {
   "cell_type": "markdown",
   "metadata": {},
   "source": [
    "# Methods"
   ]
  },
  {
   "cell_type": "code",
   "execution_count": 122,
   "metadata": {},
   "outputs": [],
   "source": [
    "def clean_test_data(data):\n",
    "\n",
    "  data = data[data.index != '#']\n",
    "\n",
    "  data = data.iloc[:, :-1]\n",
    "\n",
    "  return data"
   ]
  },
  {
   "cell_type": "code",
   "execution_count": 123,
   "metadata": {},
   "outputs": [],
   "source": [
    "def build_model_data(data):\n",
    "\n",
    "    data = data[data.index != '#']\n",
    "\n",
    "    data = data.iloc[:, :-1]\n",
    "\n",
    "    data['NER'] = data['NER'].str.replace(r'\\S+PER\\w*', 'PER', regex=True)\n",
    "    data['NER'] = data['NER'].str.replace(r'\\S+LOC\\w*', 'LOC', regex=True)\n",
    "    data['NER'] = data['NER'].str.replace(r'\\S+ORG\\w*', 'ORG', regex=True)\n",
    "    data['NER'] = data['NER'].str.replace(r'\\S+OTH\\w*', 'MISC', regex=True)\n",
    "\n",
    "    data_processed = []\n",
    "    sentences = []\n",
    "    block_sent = []\n",
    "    block_ents = []\n",
    "\n",
    "    round = 0\n",
    "    current_pos = 0\n",
    "\n",
    "    for row in data.iterrows():\n",
    "        if int(row[0]) == 1 and round != 0:\n",
    "            current_pos = 0\n",
    "            sent = ' '.join([str(word) for word in block_sent])\n",
    "            sentences.append(sent)\n",
    "            ent = {'entities': block_ents}\n",
    "            train_point = (sent, ent)\n",
    "            data_processed.append(train_point)\n",
    "\n",
    "            block_sent = []\n",
    "            block_ents = []\n",
    "\n",
    "        try:\n",
    "            block_sent.append(row[1].tokens)\n",
    "            if row[1].NER != 'O':\n",
    "                block_ents.append((current_pos, current_pos + len(row[1].tokens), row[1].NER))\n",
    "            current_pos = len(row[1].tokens) + current_pos + 1\n",
    "\n",
    "        except Exception as e:\n",
    "            continue\n",
    "\n",
    "        round += 1\n",
    "    return data_processed"
   ]
  },
  {
   "cell_type": "code",
   "execution_count": 46,
   "metadata": {},
   "outputs": [],
   "source": [
    "def get_batches(l, n):\n",
    "    for i in range(0, len(l), n):\n",
    "            yield l[i:i + n]"
   ]
  },
  {
   "cell_type": "code",
   "execution_count": 77,
   "metadata": {},
   "outputs": [],
   "source": [
    "def train_spacy(data, iterations):\n",
    "    TRAIN_DATA = data\n",
    "\n",
    "    if model is not None:\n",
    "        nlp = spacy.load(model)\n",
    "        print(\"Loaded model '%s'\" % model)\n",
    "        blank_model = False\n",
    "    else:\n",
    "        nlp = spacy.blank('de')\n",
    "        print(\"Created blank 'de' model\")\n",
    "        blank_model = True\n",
    "    if 'ner' not in nlp.pipe_names:\n",
    "        ner = nlp.create_pipe('ner')\n",
    "        nlp.add_pipe('ner', last=True)\n",
    "    else:\n",
    "        ner = nlp.get_pipe('ner')\n",
    "\n",
    "    for _, annotations in TRAIN_DATA:\n",
    "         for ent in annotations.get('entities'):\n",
    "            ner.add_label(ent[2])\n",
    "\n",
    "    # get names of other pipes to disable them during training\n",
    "    other_pipes = [pipe for pipe in nlp.pipe_names if pipe != 'ner']\n",
    "    with nlp.disable_pipes(*other_pipes):  # only train NER\n",
    "        if blank_model:\n",
    "            optimizer = nlp.begin_training\n",
    "        else:\n",
    "            optimizer = nlp.create_optimizer()\n",
    "        for itn in range(iterations):\n",
    "            print(\"Starting iteration \" + str(itn))\n",
    "            random.shuffle(TRAIN_DATA)\n",
    "            losses = {}\n",
    "            batches = get_batches(TRAIN_DATA, batch_size)\n",
    "            for batch in batches:\n",
    "                for text, annotations in tqdm(batch):\n",
    "                    doc = nlp.make_doc(text)\n",
    "                    example = Example.from_dict(doc, annotations)\n",
    "                    nlp.update([example],\n",
    "                        drop=0.2,\n",
    "                        sgd=optimizer,\n",
    "                        losses=losses)\n",
    "            print(\"losses\", losses)\n",
    "    return nlp"
   ]
  },
  {
   "cell_type": "code",
   "execution_count": 164,
   "metadata": {},
   "outputs": [],
   "source": [
    "# Transform output of model to format that perl accepts token - gold_label - None - pred_label - None\n",
    "# Don't forget to add I-/ B- to as prefix\n",
    "def create_perl_comp_data(test, test_clean):\n",
    "\n",
    "    nlp_new = spacy.load(output_dir)\n",
    "    entities_map = {}\n",
    "    tokens = test_clean['tokens'].tolist()\n",
    "    re_mapped_entities = []\n",
    "    gold_labels = test_clean['NER'].tolist()\n",
    "    fill1 = []\n",
    "    fill2 = []\n",
    "    bnum = 0\n",
    "    blen = round(len(test)/200)\n",
    "\n",
    "    print('Started transformation for perl evaluation')\n",
    "    batches = get_batches(test, batch_size)\n",
    "    for batch in batches:\n",
    "        bnum += 1\n",
    "        print(f'Batch number {bnum} of {blen}')\n",
    "        for txt, _ in batch:\n",
    "            doc = nlp_new(txt)\n",
    "            for ent in doc.ents:\n",
    "                ent_map = {ent.text: ent.label_}\n",
    "                entities_map.update(ent_map)\n",
    "\n",
    "    for token in tokens:\n",
    "        fill1.append('O')\n",
    "        fill2.append('O')\n",
    "        if token in entities_map.keys():\n",
    "            ner = entities_map.get(token)\n",
    "            if ner not in re_mapped_entities:\n",
    "                ent = 'B-' + ner\n",
    "                re_mapped_entities.append(ent)\n",
    "            else:\n",
    "                ent = 'I-' + ner\n",
    "                re_mapped_entities.append(ent)\n",
    "        else:\n",
    "            re_mapped_entities.append('O')\n",
    "\n",
    "    re_mapped_entities = [re.sub(r'(\\S+)MISC\\w*', r'\\1OTH', ent) for ent in re_mapped_entities]\n",
    "\n",
    "    print('Finished transformation')\n",
    "\n",
    "    # Test if empty columns are required\n",
    "    out = list(zip(tokens, gold_labels,fill1, re_mapped_entities, fill2))\n",
    "    df = pd.DataFrame(out, columns = ['entity', 'gold_label', 'filler1', 'pred_label', 'filler2'])\n",
    "    df.drop(0)\n",
    "\n",
    "    df.to_csv(f'eval_outputs/spacy_gerNER_eval_{batch_size}_{iterations}_{model}.tsv', sep=\"\\t\")\n",
    "\n",
    "    return df, entities_map, re_mapped_entities, tokens\n"
   ]
  },
  {
   "cell_type": "markdown",
   "metadata": {},
   "source": [
    "# Main function"
   ]
  },
  {
   "cell_type": "markdown",
   "metadata": {},
   "source": [
    "## Process input files"
   ]
  },
  {
   "cell_type": "code",
   "execution_count": 160,
   "metadata": {},
   "outputs": [],
   "source": [
    "train = build_model_data(train_raw)\n",
    "dev = build_model_data(dev_raw)\n",
    "test = build_model_data(test_raw)"
   ]
  },
  {
   "cell_type": "markdown",
   "metadata": {},
   "source": [
    "## Train model"
   ]
  },
  {
   "cell_type": "code",
   "execution_count": 172,
   "metadata": {},
   "outputs": [
    {
     "name": "stdout",
     "output_type": "stream",
     "text": [
      "Loaded model 'de_core_news_sm'\n",
      "Starting iteration 0\n"
     ]
    },
    {
     "name": "stderr",
     "output_type": "stream",
     "text": [
      " 42%|████▏     | 167/400 [00:06<00:12, 18.55it/s]/Users/kevinkraus/.pyenv/versions/3.9.1/lib/python3.9/site-packages/spacy/training/iob_utils.py:149: UserWarning: [W030] Some entities could not be aligned in the text \"Die wieder-verbündeten Chris Jericho und Edge soll...\" with entities \"[(23, 28, 'PER'), (29, 36, 'PER'), (41, 45, 'PER')...\". Use `spacy.training.offsets_to_biluo_tags(nlp.make_doc(text), entities)` to check the alignment. Misaligned entities ('-') will be ignored during training.\n",
      "  warnings.warn(\n",
      "100%|██████████| 400/400 [00:24<00:00, 16.47it/s]\n",
      "100%|██████████| 400/400 [00:30<00:00, 13.18it/s]\n",
      "100%|██████████| 400/400 [00:12<00:00, 32.32it/s]\n",
      "100%|██████████| 400/400 [00:18<00:00, 21.50it/s]\n",
      "100%|██████████| 400/400 [00:19<00:00, 20.25it/s]\n",
      "100%|██████████| 400/400 [00:21<00:00, 18.68it/s]\n",
      "100%|██████████| 400/400 [00:13<00:00, 30.71it/s]\n",
      "  2%|▏         | 6/400 [00:00<00:07, 49.64it/s]/Users/kevinkraus/.pyenv/versions/3.9.1/lib/python3.9/site-packages/spacy/training/iob_utils.py:149: UserWarning: [W030] Some entities could not be aligned in the text \"Union , Stuttgart , Berlin , Leipzig 1914. * Fayça...\" with entities \"[(0, 5, 'ORG'), (8, 17, 'LOC'), (20, 26, 'LOC'), (...\". Use `spacy.training.offsets_to_biluo_tags(nlp.make_doc(text), entities)` to check the alignment. Misaligned entities ('-') will be ignored during training.\n",
      "  warnings.warn(\n",
      "100%|██████████| 400/400 [00:16<00:00, 24.90it/s]\n",
      "  8%|▊         | 33/400 [00:03<00:38,  9.46it/s]/Users/kevinkraus/.pyenv/versions/3.9.1/lib/python3.9/site-packages/spacy/training/iob_utils.py:149: UserWarning: [W030] Some entities could not be aligned in the text \"Mit Webfleet hat der Spediteur das schon nach Tour...\" with entities \"[(1276, 1284, 'MISC'), (1516, 1519, 'LOC'), (1520,...\". Use `spacy.training.offsets_to_biluo_tags(nlp.make_doc(text), entities)` to check the alignment. Misaligned entities ('-') will be ignored during training.\n",
      "  warnings.warn(\n",
      "100%|██████████| 400/400 [00:29<00:00, 13.75it/s]\n",
      " 28%|██▊       | 112/400 [00:05<00:10, 27.57it/s]/Users/kevinkraus/.pyenv/versions/3.9.1/lib/python3.9/site-packages/spacy/training/iob_utils.py:149: UserWarning: [W030] Some entities could not be aligned in the text \"Bandgeschichte Karen Orzolek ( Karen O ) und Nicho...\" with entities \"[(15, 20, 'PER'), (21, 28, 'PER'), (31, 36, 'PER')...\". Use `spacy.training.offsets_to_biluo_tags(nlp.make_doc(text), entities)` to check the alignment. Misaligned entities ('-') will be ignored during training.\n",
      "  warnings.warn(\n",
      "100%|██████████| 400/400 [00:22<00:00, 17.73it/s]\n",
      " 36%|███▋      | 146/400 [00:06<00:34,  7.30it/s]/Users/kevinkraus/.pyenv/versions/3.9.1/lib/python3.9/site-packages/spacy/training/iob_utils.py:149: UserWarning: [W030] Some entities could not be aligned in the text \"Außerdem braucht dieses Wohngebiet eine neue Zufah...\" with entities \"[(11134, 11136, 'MISC'), (11137, 11142, 'MISC'), (...\". Use `spacy.training.offsets_to_biluo_tags(nlp.make_doc(text), entities)` to check the alignment. Misaligned entities ('-') will be ignored during training.\n",
      "  warnings.warn(\n",
      "100%|██████████| 400/400 [00:33<00:00, 12.05it/s]\n",
      "100%|██████████| 400/400 [00:24<00:00, 16.27it/s]\n",
      "100%|██████████| 400/400 [00:11<00:00, 33.60it/s]\n",
      "100%|██████████| 400/400 [00:13<00:00, 29.56it/s]\n",
      "100%|██████████| 400/400 [00:14<00:00, 28.30it/s]\n",
      "100%|██████████| 400/400 [00:31<00:00, 12.60it/s]\n",
      "100%|██████████| 400/400 [00:40<00:00,  9.97it/s]\n",
      "100%|██████████| 400/400 [00:25<00:00, 15.98it/s]\n",
      "100%|██████████| 400/400 [00:32<00:00, 12.47it/s]\n",
      "100%|██████████| 400/400 [00:17<00:00, 22.76it/s]\n",
      " 40%|███▉      | 158/400 [00:15<00:28,  8.41it/s]/Users/kevinkraus/.pyenv/versions/3.9.1/lib/python3.9/site-packages/spacy/training/iob_utils.py:149: UserWarning: [W030] Some entities could not be aligned in the text \"Im Leitvortrag zum edaForum07 spricht in diesem Ja...\" with entities \"[(19, 29, 'ORG'), (97, 110, 'ORG'), (111, 119, 'OR...\". Use `spacy.training.offsets_to_biluo_tags(nlp.make_doc(text), entities)` to check the alignment. Misaligned entities ('-') will be ignored during training.\n",
      "  warnings.warn(\n",
      "100%|██████████| 400/400 [00:21<00:00, 18.42it/s]\n",
      "100%|██████████| 400/400 [00:32<00:00, 12.48it/s]\n",
      "100%|██████████| 400/400 [00:15<00:00, 25.90it/s]\n",
      "100%|██████████| 400/400 [00:13<00:00, 28.67it/s]\n",
      "100%|██████████| 400/400 [00:22<00:00, 18.03it/s]\n",
      "100%|██████████| 400/400 [00:15<00:00, 25.87it/s]\n",
      " 48%|████▊     | 192/400 [00:09<00:21,  9.51it/s]/Users/kevinkraus/.pyenv/versions/3.9.1/lib/python3.9/site-packages/spacy/training/iob_utils.py:149: UserWarning: [W030] Some entities could not be aligned in the text \"Das Modell Corsa \tI-OTH\tO\n",
      "5\tSelection\tI-OTH\tO\n",
      "6\t11...\" with entities \"[(11, 16, 'MISC'), (17, 62, 'MISC'), (80, 84, 'ORG...\". Use `spacy.training.offsets_to_biluo_tags(nlp.make_doc(text), entities)` to check the alignment. Misaligned entities ('-') will be ignored during training.\n",
      "  warnings.warn(\n",
      "100%|██████████| 400/400 [00:16<00:00, 24.29it/s]\n",
      "100%|██████████| 400/400 [00:13<00:00, 29.90it/s]\n",
      "100%|██████████| 400/400 [00:29<00:00, 13.49it/s]\n",
      "100%|██████████| 400/400 [00:16<00:00, 24.50it/s]\n",
      "100%|██████████| 69/69 [00:01<00:00, 53.68it/s]\n"
     ]
    },
    {
     "name": "stdout",
     "output_type": "stream",
     "text": [
      "losses {'ner': 23217.816196028274}\n",
      "Starting iteration 1\n"
     ]
    },
    {
     "name": "stderr",
     "output_type": "stream",
     "text": [
      "100%|██████████| 400/400 [00:26<00:00, 14.95it/s]\n",
      "100%|██████████| 400/400 [00:23<00:00, 16.86it/s]\n",
      "100%|██████████| 400/400 [00:07<00:00, 54.24it/s]\n",
      "100%|██████████| 400/400 [00:17<00:00, 22.36it/s]\n",
      "100%|██████████| 400/400 [00:15<00:00, 25.56it/s]\n",
      "100%|██████████| 400/400 [00:32<00:00, 12.36it/s]\n",
      "100%|██████████| 400/400 [00:30<00:00, 13.27it/s]\n",
      "100%|██████████| 400/400 [00:10<00:00, 37.15it/s]\n",
      "100%|██████████| 400/400 [00:21<00:00, 18.95it/s]\n",
      "100%|██████████| 400/400 [00:43<00:00,  9.27it/s]\n",
      "100%|██████████| 400/400 [00:31<00:00, 12.67it/s]\n",
      "100%|██████████| 400/400 [00:11<00:00, 34.00it/s]\n",
      "100%|██████████| 400/400 [00:10<00:00, 37.41it/s]\n",
      "100%|██████████| 400/400 [00:23<00:00, 17.08it/s]\n",
      "100%|██████████| 400/400 [00:15<00:00, 25.44it/s]\n",
      "100%|██████████| 400/400 [00:23<00:00, 16.92it/s]\n",
      "100%|██████████| 400/400 [00:24<00:00, 16.34it/s]\n",
      "100%|██████████| 400/400 [00:26<00:00, 15.23it/s]\n",
      "100%|██████████| 400/400 [00:19<00:00, 21.02it/s]\n",
      "100%|██████████| 400/400 [00:21<00:00, 18.26it/s]\n",
      "100%|██████████| 400/400 [00:22<00:00, 17.43it/s]\n",
      "100%|██████████| 400/400 [00:25<00:00, 15.70it/s]\n",
      "100%|██████████| 400/400 [00:09<00:00, 42.93it/s]\n",
      "100%|██████████| 400/400 [00:16<00:00, 24.65it/s]\n",
      "100%|██████████| 400/400 [00:18<00:00, 22.00it/s]\n",
      "100%|██████████| 400/400 [00:27<00:00, 14.65it/s]\n",
      "100%|██████████| 400/400 [00:30<00:00, 13.20it/s]\n",
      "100%|██████████| 400/400 [00:13<00:00, 29.68it/s]\n",
      "100%|██████████| 400/400 [00:18<00:00, 21.43it/s]\n",
      "100%|██████████| 400/400 [00:26<00:00, 15.01it/s]\n",
      "100%|██████████| 69/69 [00:07<00:00,  8.88it/s]\n"
     ]
    },
    {
     "name": "stdout",
     "output_type": "stream",
     "text": [
      "losses {'ner': 19712.838025730918}\n",
      "Starting iteration 2\n"
     ]
    },
    {
     "name": "stderr",
     "output_type": "stream",
     "text": [
      "100%|██████████| 400/400 [00:16<00:00, 24.23it/s]\n",
      "100%|██████████| 400/400 [00:45<00:00,  8.85it/s]\n",
      "100%|██████████| 400/400 [00:12<00:00, 32.58it/s]\n",
      "100%|██████████| 400/400 [00:11<00:00, 33.64it/s]\n",
      "100%|██████████| 400/400 [00:19<00:00, 20.55it/s]\n",
      "100%|██████████| 400/400 [00:14<00:00, 26.82it/s]\n",
      "100%|██████████| 400/400 [00:42<00:00,  9.31it/s]\n",
      "100%|██████████| 400/400 [00:14<00:00, 28.32it/s]\n",
      "100%|██████████| 400/400 [00:30<00:00, 13.03it/s]\n",
      "100%|██████████| 400/400 [00:26<00:00, 15.36it/s]\n",
      "100%|██████████| 400/400 [00:27<00:00, 14.80it/s]\n",
      "100%|██████████| 400/400 [00:19<00:00, 20.90it/s]\n",
      "100%|██████████| 400/400 [00:22<00:00, 17.94it/s]\n",
      "100%|██████████| 400/400 [00:19<00:00, 21.02it/s]\n",
      "100%|██████████| 400/400 [00:19<00:00, 20.43it/s]\n",
      "100%|██████████| 400/400 [00:23<00:00, 16.67it/s]\n",
      "100%|██████████| 400/400 [00:14<00:00, 28.03it/s]\n",
      "100%|██████████| 400/400 [00:13<00:00, 30.27it/s]\n",
      "100%|██████████| 400/400 [00:19<00:00, 20.61it/s]\n",
      "100%|██████████| 400/400 [00:11<00:00, 34.44it/s]\n",
      "100%|██████████| 400/400 [00:22<00:00, 18.16it/s]\n",
      "100%|██████████| 400/400 [00:25<00:00, 15.76it/s]\n",
      "  8%|▊         | 32/400 [00:01<00:10, 35.23it/s]"
     ]
    }
   ],
   "source": [
    "nlp = train_spacy(train, iterations)\n",
    "\n",
    "# Training of all 29.000 rows took about ~22m (batch_size=200, itn=2)\n",
    "# "
   ]
  },
  {
   "cell_type": "code",
   "execution_count": 162,
   "metadata": {},
   "outputs": [
    {
     "name": "stdout",
     "output_type": "stream",
     "text": [
      "Saved model to spacy_gerNER_updated\n"
     ]
    }
   ],
   "source": [
    "if output_dir is not None:\n",
    "    output_dir = Path(output_dir)\n",
    "    if not output_dir.exists():\n",
    "        output_dir.mkdir()\n",
    "    nlp.to_disk(output_dir)\n",
    "    print(\"Saved model to\", output_dir)"
   ]
  },
  {
   "cell_type": "markdown",
   "metadata": {},
   "source": [
    "## Prepare output"
   ]
  },
  {
   "cell_type": "code",
   "execution_count": 167,
   "metadata": {},
   "outputs": [
    {
     "name": "stdout",
     "output_type": "stream",
     "text": [
      "Started transformation for perl evaluation\n",
      "Batch number 1 of 15\n",
      "Batch number 2 of 15\n",
      "Batch number 3 of 15\n",
      "Batch number 4 of 15\n",
      "Batch number 5 of 15\n",
      "Batch number 6 of 15\n",
      "Batch number 7 of 15\n",
      "Batch number 8 of 15\n",
      "Batch number 9 of 15\n",
      "Batch number 10 of 15\n",
      "Batch number 11 of 15\n",
      "Batch number 12 of 15\n",
      "Batch number 13 of 15\n",
      "Batch number 14 of 15\n",
      "Batch number 15 of 15\n",
      "Finished transformation\n"
     ]
    }
   ],
   "source": [
    "test_clean = clean_test_data(test_raw)\n",
    "\n",
    "df, entities_map, re_mapped_entities, tokens = create_perl_comp_data(test, test_clean)\n",
    "\n",
    "# Execution time on full test set ~8m"
   ]
  },
  {
   "cell_type": "markdown",
   "metadata": {},
   "source": [
    "# Evaluation"
   ]
  },
  {
   "cell_type": "code",
   "execution_count": 149,
   "metadata": {},
   "outputs": [
    {
     "name": "stderr",
     "output_type": "stream",
     "text": [
      "8836.64s - pydevd: Sending message related to process being replaced timed-out after 5 seconds\n"
     ]
    },
    {
     "name": "stdout",
     "output_type": "stream",
     "text": [
      "Collecting perl\n",
      "  Downloading perl-1.0.0.tar.gz (11 kB)\n",
      "  Preparing metadata (setup.py) ... \u001b[?25ldone\n",
      "\u001b[?25hRequirement already satisfied: six in /Users/kevinkraus/.pyenv/versions/3.9.1/lib/python3.9/site-packages (from perl) (1.16.0)\n",
      "Building wheels for collected packages: perl\n",
      "  Building wheel for perl (setup.py) ... \u001b[?25ldone\n",
      "\u001b[?25h  Created wheel for perl: filename=perl-1.0.0-py3-none-any.whl size=10092 sha256=46480390d5a0e3ca7e536e497da603c19d96737c1594ee50f5a7b270b7a7f71c\n",
      "  Stored in directory: /Users/kevinkraus/Library/Caches/pip/wheels/5c/d8/42/910871dc993f324c8faaaa5ca2b283ee305303e17368ccf153\n",
      "Successfully built perl\n",
      "Installing collected packages: perl\n",
      "Successfully installed perl-1.0.0\n",
      "\n",
      "\u001b[1m[\u001b[0m\u001b[34;49mnotice\u001b[0m\u001b[1;39;49m]\u001b[0m\u001b[39;49m A new release of pip available: \u001b[0m\u001b[31;49m22.2.2\u001b[0m\u001b[39;49m -> \u001b[0m\u001b[32;49m22.3.1\u001b[0m\n",
      "\u001b[1m[\u001b[0m\u001b[34;49mnotice\u001b[0m\u001b[1;39;49m]\u001b[0m\u001b[39;49m To update, run: \u001b[0m\u001b[32;49mpip install --upgrade pip\u001b[0m\n"
     ]
    }
   ],
   "source": [
    "!pip install perl"
   ]
  },
  {
   "cell_type": "code",
   "execution_count": 169,
   "metadata": {},
   "outputs": [
    {
     "name": "stderr",
     "output_type": "stream",
     "text": [
      "11457.24s - pydevd: Sending message related to process being replaced timed-out after 5 seconds\n"
     ]
    },
    {
     "name": "stdout",
     "output_type": "stream",
     "text": [
      "unexpected number of features: 4 (6)\n"
     ]
    }
   ],
   "source": [
    "!perl nereval.perl < eval_outputs/spacy_gerNER_eval_200_2_de_core_news_sm.tsv"
   ]
  },
  {
   "cell_type": "code",
   "execution_count": null,
   "metadata": {},
   "outputs": [],
   "source": []
  }
 ],
 "metadata": {
  "kernelspec": {
   "display_name": "Python 3.9.1 64-bit ('3.9.1')",
   "language": "python",
   "name": "python3"
  },
  "language_info": {
   "codemirror_mode": {
    "name": "ipython",
    "version": 3
   },
   "file_extension": ".py",
   "mimetype": "text/x-python",
   "name": "python",
   "nbconvert_exporter": "python",
   "pygments_lexer": "ipython3",
   "version": "3.9.1"
  },
  "orig_nbformat": 4,
  "vscode": {
   "interpreter": {
    "hash": "e1ce572dc14c3442f9926cad6e62ae439bb4aa5de4d616acf4bcb428a0280ccf"
   }
  }
 },
 "nbformat": 4,
 "nbformat_minor": 2
}
